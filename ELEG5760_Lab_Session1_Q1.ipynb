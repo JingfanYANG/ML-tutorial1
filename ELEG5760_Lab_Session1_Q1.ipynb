{
 "cells": [
  {
   "cell_type": "markdown",
   "id": "58b1ee60",
   "metadata": {},
   "source": [
    "## Q0: (0 point) \n",
    "- Please install Anaconda on your own PC or the PC in the lab. (Download link: https://www.anaconda.com/download/ )\n",
    "- Please install related python3 packages: numpy, scikit-learn, jupyter (pip3 install numpy, scikit-learn, jupyter)"
   ]
  },
  {
   "cell_type": "markdown",
   "id": "08f43afb",
   "metadata": {},
   "source": [
    "## Q1: (100 point) \n",
    "Use NumPy module to define and operation the following operations on matrices and vectors. Please readme the following example and answer sub-questions 1-5 in jupyter notebook."
   ]
  },
  {
   "cell_type": "markdown",
   "id": "0e89020a",
   "metadata": {},
   "source": [
    "### Example for Q1\n",
    "#### Question: \n",
    "- Calculate the matrix multiplication between random matrix A (shape 4x3) and random matrix B (shape 3x5)"
   ]
  },
  {
   "cell_type": "code",
   "execution_count": 2,
   "id": "084bfd20",
   "metadata": {},
   "outputs": [
    {
     "name": "stdout",
     "output_type": "stream",
     "text": [
      "(4, 5)\n",
      "[[1.00247798 1.10184928 0.67061532 0.56105896 0.52841903]\n",
      " [0.87989242 0.28397698 0.749823   0.71663057 0.93446911]\n",
      " [1.21006639 0.8776346  1.05677394 0.84379458 0.7417476 ]\n",
      " [0.5225502  0.39876739 0.41888925 0.35366792 0.35517999]]\n"
     ]
    }
   ],
   "source": [
    "# Answer to example\n",
    "import numpy as np\n",
    "# 1. Generate random matrix A and B\n",
    "a = np.random.random(size=(4, 3))\n",
    "b = np.random.random(size=(3, 5))\n",
    "# 2. Execute matrix multiplication and assign the result to matrix C\n",
    "c = np.matmul(a, b)\n",
    "# 3. Print the shape and value of C\n",
    "print(c.shape)\n",
    "print(c)"
   ]
  },
  {
   "cell_type": "markdown",
   "id": "be406c00",
   "metadata": {},
   "source": [
    "### (1) Define NumPy Array\n",
    "#### Question: \n",
    "- Use NumPy to define the following matrix A and vector b, then print A and b\n",
    "$$\n",
    " A = \n",
    " \\begin{bmatrix}\n",
    "   1 & 2 & 3 & 3\\\\\n",
    "   4 & 5 & 6 & 1\\\\\n",
    "   7 & 8 & 9 & 4\n",
    "  \\end{bmatrix},\n",
    "   b =\n",
    " \\begin{bmatrix}\n",
    "   7 \\\\\n",
    "   4 \\\\\n",
    "   1 \\\\\n",
    "  \\end{bmatrix}\n",
    "$$\n"
   ]
  },
  {
   "cell_type": "code",
   "execution_count": 3,
   "id": "f8b99105",
   "metadata": {},
   "outputs": [
    {
     "name": "stdout",
     "output_type": "stream",
     "text": [
      "[[1 2 3 3]\n",
      " [4 5 6 1]\n",
      " [7 8 9 4]]\n",
      "[[7]\n",
      " [4]\n",
      " [1]]\n"
     ]
    }
   ],
   "source": [
    "# Answer to sub-question 1\n",
    "import numpy as np\n",
    "\n",
    "A = np.array([[1,2,3,3],[4,5,6,1],[7,8,9,4]])\n",
    "b = np.array([[7],[4],[1]])\n",
    "print(A)\n",
    "print(b)"
   ]
  },
  {
   "cell_type": "markdown",
   "id": "e04cbe99",
   "metadata": {},
   "source": [
    "### (2) Basic Mathematical Operation\n",
    "#### Question:  \n",
    "- Mulitply scalar3 and substract scalar 6 to each element in A, then print the new result matrix."
   ]
  },
  {
   "cell_type": "code",
   "execution_count": 4,
   "id": "969cdfc4",
   "metadata": {},
   "outputs": [
    {
     "name": "stdout",
     "output_type": "stream",
     "text": [
      "[[-3  0  3  3]\n",
      " [ 6  9 12 -3]\n",
      " [15 18 21  6]]\n"
     ]
    }
   ],
   "source": [
    "# Answer to sub-question 2\n",
    "\n",
    "print(A*3-6)\n"
   ]
  },
  {
   "cell_type": "markdown",
   "id": "523f56ed",
   "metadata": {},
   "source": [
    "### (3) Broadcast Mechanism\n",
    "#### Question:\n",
    "- Use the broadcast mechanism in NumPy to add b to **each row** of the matrix A, then print the new result matrix."
   ]
  },
  {
   "cell_type": "code",
   "execution_count": 5,
   "id": "8cf888d1",
   "metadata": {},
   "outputs": [
    {
     "name": "stdout",
     "output_type": "stream",
     "text": [
      "[[ 8  9 10 10]\n",
      " [ 8  9 10  5]\n",
      " [ 8  9 10  5]]\n"
     ]
    }
   ],
   "source": [
    "# Answer to sub-question 3\n",
    "print(A+b)"
   ]
  },
  {
   "cell_type": "markdown",
   "id": "25291a1d",
   "metadata": {},
   "source": [
    "### (4) Dimension Manipulation Operation\n",
    "#### Question: \n",
    "- (Slice) Get the first and the third column of the Matrix A to construct a new matrix, then print it.\n",
    "- (Split) Split the Matrix A to three row vectors, then print them."
   ]
  },
  {
   "cell_type": "code",
   "execution_count": 6,
   "id": "9655de8a",
   "metadata": {},
   "outputs": [
    {
     "name": "stdout",
     "output_type": "stream",
     "text": [
      "[[1 2]\n",
      " [4 5]\n",
      " [7 8]]\n",
      "[array([[1, 2, 3, 3]]), array([[4, 5, 6, 1]]), array([[7, 8, 9, 4]])]\n"
     ]
    }
   ],
   "source": [
    "# Answer to sub-question 4\n",
    "print(A[:,0:2])\n",
    "print(np.split(A,3))"
   ]
  },
  {
   "cell_type": "markdown",
   "id": "e6ef0c10",
   "metadata": {},
   "source": [
    "### (5) Matrix Operation\n",
    "#### Question:\n",
    "- Execute SVD decompositon to the matrix A, then print the results (unitary matrix and singular value vector)."
   ]
  },
  {
   "cell_type": "code",
   "execution_count": 7,
   "id": "97c2f133",
   "metadata": {
    "scrolled": true
   },
   "outputs": [
    {
     "name": "stdout",
     "output_type": "stream",
     "text": [
      "[[-0.24531292 -0.87032483 -0.42703192]\n",
      " [-0.50037185  0.49095298 -0.71315719]\n",
      " [-0.83033101 -0.03872808  0.55592316]]\n",
      "[17.4426792   2.45260916  0.85886587]\n"
     ]
    }
   ],
   "source": [
    "# Answer to sub-question 5\n",
    "U,sigma,VT = np.linalg.svd(A)\n",
    "print(U)\n",
    "print(sigma)"
   ]
  }
 ],
 "metadata": {
  "kernelspec": {
   "display_name": "Python 3 (ipykernel)",
   "language": "python",
   "name": "python3"
  },
  "language_info": {
   "codemirror_mode": {
    "name": "ipython",
    "version": 3
   },
   "file_extension": ".py",
   "mimetype": "text/x-python",
   "name": "python",
   "nbconvert_exporter": "python",
   "pygments_lexer": "ipython3",
   "version": "3.9.13"
  }
 },
 "nbformat": 4,
 "nbformat_minor": 5
}
